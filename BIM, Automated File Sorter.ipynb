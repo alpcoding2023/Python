{
 "cells": [
  {
   "cell_type": "code",
   "execution_count": null,
   "id": "c962dfa7",
   "metadata": {},
   "outputs": [],
   "source": [
    "#BMI = (weight in pounds x 703) / (height in inches x height in inches)"
   ]
  },
  {
   "cell_type": "code",
   "execution_count": null,
   "id": "f226533e",
   "metadata": {},
   "outputs": [],
   "source": [
    "Under 18.5\tUnderweight\tMinimal\n",
    "18.5 - 24.9\tNormal Weight\tMinimal\n",
    "25 - 29.9\tOverweight\tIncreased\n",
    "30 - 34.9\tObese\tHigh\n",
    "35 - 39.9\tSeverely Obese\tVery High\n",
    "40 and over\tMorbidly Obese\tExtremely High"
   ]
  },
  {
   "cell_type": "markdown",
   "id": "c7f9da55",
   "metadata": {},
   "source": [
    "# BMI CALCULATOR"
   ]
  },
  {
   "cell_type": "code",
   "execution_count": 3,
   "id": "ea15a87c",
   "metadata": {},
   "outputs": [
    {
     "name": "stdout",
     "output_type": "stream",
     "text": [
      "Type your name : Zel\n",
      "Enter your weight in lbs: 100\n",
      "Enter your height in inches: 60\n",
      "Zel, you are Normal Weight! \n"
     ]
    }
   ],
   "source": [
    "\n",
    "name = input(\"Type your name : \")\n",
    "weight = int(input(\"Enter your weight in lbs: \"))\n",
    "height = int(input(\"Enter your height in inches: \"))\n",
    "\n",
    "BMI = (weight * 703) / (height * height)\n",
    "\n",
    "if BMI > 0 :\n",
    "    if BMI < 18.5 :\n",
    "        print( name + \", you are Underweight! \")\n",
    "    elif BMI < 24.9:\n",
    "        print( name + \", you are Normal Weight! \")\n",
    "    elif BMI < 29.9:\n",
    "        print( name + \", you are OVERWEIGHT! \")\n",
    "    elif BMI < 34.9:\n",
    "        print( name + \", you are OBESE! \")\n",
    "    elif BMI < 39.9:\n",
    "        print( name + \", you are Severely Obese! \")\n",
    "    elif BMI < 40:\n",
    "        print( name + \", you areMorbidly Obese \")\n",
    "else:\n",
    "    print(\"INVALID INPUT!\")\n",
    "        "
   ]
  },
  {
   "cell_type": "markdown",
   "id": "b642c85e",
   "metadata": {},
   "source": [
    "# Automated File Sorter"
   ]
  },
  {
   "cell_type": "code",
   "execution_count": 31,
   "id": "1ea23aac",
   "metadata": {
    "scrolled": false
   },
   "outputs": [
    {
     "name": "stdout",
     "output_type": "stream",
     "text": [
      "Some files not moved\n"
     ]
    }
   ],
   "source": [
    "\n",
    "#1st test if path does exist - os.listdir(path) - \n",
    "#2nd verify if folders are already available, else create types of folder\n",
    "#3rd Check and identify type of files and move to the correct folder\n",
    "\n",
    "# path = C:\\Users\\ALP_TUF\\Desktop\\DATA_ANALYST_TUTORIAL\\Python\n",
    "\n",
    "import os, shutil\n",
    "\n",
    "path = r\"C:/Users/ALP_TUF/Desktop/DATA_ANALYST_TUTORIAL/Python/Automated File Sorter/\"\n",
    "\n",
    "path_name = os.listdir(path)\n",
    "\n",
    "folder_names = ['Image files', 'CSV & Excel files', 'Text, PDF & Doc Files', 'Adobe Files', 'Reports & Data Models', 'ZIP', 'OTHERS']\n",
    "\n",
    "for file_type in range(0,7):\n",
    "    if not os.path.exists(path + folder_names[file_type]):\n",
    "        os.makedirs(path + folder_names[file_type])\n",
    "        \n",
    "\n",
    "for file in path_name:\n",
    "    \n",
    "    if \".csv\" in file and not  os.path.exists(path + 'CSV & Excel files/' + file) :\n",
    "        shutil.move(path + file,path + 'CSV & Excel files/' + file )\n",
    "    elif \".xlsx\" in file and not  os.path.exists(path + 'CSV & Excel files/' + file) :\n",
    "        shutil.move(path + file,path + 'CSV & Excel files/' + file )\n",
    "    elif \".png\" in file and not  os.path.exists(path + 'Image files/' + file) :\n",
    "        shutil.move(path + file,path + 'Image files/' + file )\n",
    "    elif \".PNG\" in file and not  os.path.exists(path + 'Image files/' + file) :\n",
    "        shutil.move(path + file,path + 'Image files/' + file )\n",
    "    elif \".jpg\" in file and not  os.path.exists(path + 'Image files/' + file) :\n",
    "        shutil.move(path + file,path + 'Image files/' + file )\n",
    "    elif \".jpeg\" in file and not  os.path.exists(path + 'Image files/' + file) :\n",
    "        shutil.move(path + file,path + 'Image files/' + file )\n",
    "    elif \".txt\" in file and not  os.path.exists(path + 'Text, PDF & Doc Files/' + file) :\n",
    "        shutil.move(path + file,path + 'Text, PDF & Doc Files/' + file )\n",
    "    elif \".docx\" in file and not  os.path.exists(path + 'Text, PDF & Doc Files/' + file) :\n",
    "        shutil.move(path + file,path + 'Text, PDF & Doc Files/' + file )\n",
    "    elif \".pdf\" in file and not  os.path.exists(path + 'OTHERS' + file) :\n",
    "        shutil.move(path + file,path + 'OTHERS' + file )\n",
    "    elif \".psd\" in file and not  os.path.exists(path + 'Adobe Files/' + file) :\n",
    "        shutil.move(path + file,path + 'Adobe Files/' + file )\n",
    "    elif \".ai\" in file and not  os.path.exists(path + 'Adobe Files/' + file) :\n",
    "        shutil.move(path + file,path + 'Adobe Files/' + file )\n",
    "    elif \".pbix\" in file and not  os.path.exists(path + 'Reports & Data Models/' + file) :\n",
    "        shutil.move(path + file,path + 'Reports & Data Models/' + file )\n",
    "    elif \".zip\" in file and not  os.path.exists(path + 'ZIP/' + file) :\n",
    "        shutil.move(path + file,path + 'ZIP/' + file )\n",
    "    else:\n",
    "        print(\"Some files not moved\")\n",
    "\n",
    "\n",
    "\n",
    "        \n",
    "\n"
   ]
  },
  {
   "cell_type": "code",
   "execution_count": null,
   "id": "59c722a3",
   "metadata": {},
   "outputs": [],
   "source": []
  },
  {
   "cell_type": "code",
   "execution_count": null,
   "id": "150015dc",
   "metadata": {},
   "outputs": [],
   "source": []
  }
 ],
 "metadata": {
  "kernelspec": {
   "display_name": "Python 3 (ipykernel)",
   "language": "python",
   "name": "python3"
  },
  "language_info": {
   "codemirror_mode": {
    "name": "ipython",
    "version": 3
   },
   "file_extension": ".py",
   "mimetype": "text/x-python",
   "name": "python",
   "nbconvert_exporter": "python",
   "pygments_lexer": "ipython3",
   "version": "3.9.7"
  }
 },
 "nbformat": 4,
 "nbformat_minor": 5
}
